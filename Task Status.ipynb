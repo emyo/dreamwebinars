{
 "cells": [
  {
   "cell_type": "code",
   "execution_count": 1,
   "metadata": {
    "collapsed": true
   },
   "outputs": [],
   "source": [
    "from __future__ import print_function\n",
    "from os import environ\n",
    "from datetime import datetime\n",
    "import time\n",
    "import sevenbridges as sbg\n",
    "from dream_helpers import *\n",
    "import pprint \n",
    "pp = pprint.PrettyPrinter(indent=4)\n",
    "\n",
    "# Create API object\n",
    "api = sbg.Api(config=sbg.Config(url=environ['API_URL'], token=environ['AUTH_TOKEN']))"
   ]
  },
  {
   "cell_type": "code",
   "execution_count": 2,
   "metadata": {
    "collapsed": true
   },
   "outputs": [],
   "source": [
    "# task_id = \"772ee702-bdd5-4001-9356-0537f7916d56\"\n",
    "# task_id = \"36c9185c-1e3d-48b3-bf43-e6fda9f99ca0\"\n",
    "# task_id = \"db2aad61-41aa-4d6e-bede-cfdc5efb7a03\" # grep\n",
    "# task_id = \"21bdbc46-e03e-41ff-a1d0-55717d56c35b\"\n",
    "# task_id = \"4ab52a20-1640-4509-8718-88f9bba5d503\"\n",
    "task_id = \"1ecc7073-55ef-41d9-b5af-d1aa1f052d0f\"\n",
    "task = api.tasks.get(task_id) # task_object"
   ]
  },
  {
   "cell_type": "code",
   "execution_count": 3,
   "metadata": {
    "collapsed": false
   },
   "outputs": [],
   "source": [
    "def ping_task_status(task_object):\n",
    "\n",
    "    # Refresh task details\n",
    "    status = task_object.get_execution_details().status\n",
    "\n",
    "    # Print task status and sleep\n",
    "    if status:\n",
    "        print(\"\\nTask status as of {}: {}\".format(time.ctime(), status))\n",
    "        return status"
   ]
  },
  {
   "cell_type": "code",
   "execution_count": 4,
   "metadata": {
    "collapsed": false
   },
   "outputs": [],
   "source": [
    "# while True:\n",
    "#     try:\n",
    "#         time.sleep(5)\n",
    "#         status = task.get_execution_details().status\n",
    "#         print(\"\\nTask status as of {}: {}\".format(time.ctime(), status))\n",
    "#         if any(status in s for s in [\"COMPLETED\", \"FAILED\", \"ABORTED\"]):\n",
    "#             print(\"\\nTask: {}\".format(status))\n",
    "#             break\n",
    "#     except KeyboardInterrupt:\n",
    "#         print(\"\\nKeyboard interruption. Exiting.\")\n",
    "#         print(\"Task: {}\".format(task.name))\n",
    "#         print(\"Task ID: {}\".format(task.id))\n",
    "#         print(\"Task status upon exit at {}: {}\".format(time.ctime(), status))\n",
    "#         exit(1)"
   ]
  },
  {
   "cell_type": "code",
   "execution_count": 5,
   "metadata": {
    "collapsed": false
   },
   "outputs": [
    {
     "name": "stdout",
     "output_type": "stream",
     "text": [
      "\n",
      "Task status as of Sat Aug 20 18:57:17 2016: RUNNING\n",
      "\n",
      "Task status as of Sat Aug 20 18:57:22 2016: RUNNING\n",
      "\n",
      "Task status as of Sat Aug 20 18:57:28 2016: RUNNING\n",
      "\n",
      "Task status as of Sat Aug 20 18:57:33 2016: RUNNING\n",
      "\n",
      "Task status as of Sat Aug 20 18:57:39 2016: RUNNING\n",
      "\n",
      "Task status as of Sat Aug 20 18:57:44 2016: RUNNING\n",
      "\n",
      "Task status as of Sat Aug 20 18:57:49 2016: RUNNING\n",
      "\n",
      "Task status as of Sat Aug 20 18:57:55 2016: RUNNING\n",
      "\n",
      "Task status as of Sat Aug 20 18:58:00 2016: RUNNING\n",
      "\n",
      "Task status as of Sat Aug 20 18:58:06 2016: RUNNING\n",
      "\n",
      "Task status as of Sat Aug 20 18:58:12 2016: RUNNING\n",
      "\n",
      "Task status as of Sat Aug 20 18:58:17 2016: RUNNING\n",
      "\n",
      "Task status as of Sat Aug 20 18:58:23 2016: RUNNING\n",
      "\n",
      "Task status as of Sat Aug 20 18:58:28 2016: RUNNING\n",
      "\n",
      "Task status as of Sat Aug 20 18:58:34 2016: RUNNING\n",
      "\n",
      "Task status as of Sat Aug 20 18:58:39 2016: RUNNING\n",
      "\n",
      "Task status as of Sat Aug 20 18:58:44 2016: RUNNING\n",
      "\n",
      "Task status as of Sat Aug 20 18:58:50 2016: RUNNING\n",
      "\n",
      "Task status as of Sat Aug 20 18:58:55 2016: RUNNING\n",
      "\n",
      "Task status as of Sat Aug 20 18:59:01 2016: RUNNING\n",
      "\n",
      "Task status as of Sat Aug 20 18:59:06 2016: RUNNING\n",
      "\n",
      "Task status as of Sat Aug 20 18:59:12 2016: RUNNING\n",
      "\n",
      "Task status as of Sat Aug 20 18:59:18 2016: RUNNING\n",
      "\n",
      "Task status as of Sat Aug 20 18:59:23 2016: RUNNING\n",
      "\n",
      "Task status as of Sat Aug 20 18:59:29 2016: RUNNING\n",
      "\n",
      "Task status as of Sat Aug 20 18:59:34 2016: RUNNING\n",
      "\n",
      "Task status as of Sat Aug 20 18:59:40 2016: RUNNING\n",
      "\n",
      "Task status as of Sat Aug 20 18:59:45 2016: RUNNING\n",
      "\n",
      "Task status as of Sat Aug 20 18:59:50 2016: RUNNING\n",
      "\n",
      "Task status as of Sat Aug 20 18:59:56 2016: RUNNING\n",
      "\n",
      "Task status as of Sat Aug 20 19:00:01 2016: RUNNING\n",
      "\n",
      "Task status as of Sat Aug 20 19:00:07 2016: RUNNING\n",
      "\n",
      "Task status as of Sat Aug 20 19:00:12 2016: RUNNING\n",
      "\n",
      "Task status as of Sat Aug 20 19:00:17 2016: RUNNING\n",
      "\n",
      "Task status as of Sat Aug 20 19:00:24 2016: RUNNING\n",
      "\n",
      "Task status as of Sat Aug 20 19:00:29 2016: RUNNING\n",
      "\n",
      "Task status as of Sat Aug 20 19:00:34 2016: RUNNING\n",
      "\n",
      "Task status as of Sat Aug 20 19:00:40 2016: RUNNING\n",
      "\n",
      "Task status as of Sat Aug 20 19:00:45 2016: RUNNING\n",
      "\n",
      "Task status as of Sat Aug 20 19:00:51 2016: RUNNING\n",
      "\n",
      "Task status as of Sat Aug 20 19:00:56 2016: RUNNING\n",
      "\n",
      "Task status as of Sat Aug 20 19:01:02 2016: RUNNING\n",
      "\n",
      "Task status as of Sat Aug 20 19:01:07 2016: RUNNING\n",
      "\n",
      "Task status as of Sat Aug 20 19:01:13 2016: RUNNING\n",
      "\n",
      "Task status as of Sat Aug 20 19:01:18 2016: RUNNING\n",
      "\n",
      "Task status as of Sat Aug 20 19:01:24 2016: COMPLETED\n",
      "Task: simple_grep run - 08-20-16 22:44:54:\n",
      "Task ID: 1ecc7073-55ef-41d9-b5af-d1aa1f052d0f:\n",
      "Task completed at: 2016-08-20 23:01:20\n"
     ]
    }
   ],
   "source": [
    "while True:\n",
    "    try:\n",
    "        time.sleep(5)\n",
    "        status = ping_task_status(task)\n",
    "        # Break if task is completed\n",
    "        if status == \"COMPLETED\": \n",
    "            print(\"Task: {}:\".format(task.name))\n",
    "            print(\"Task ID: {}:\".format(task.id))\n",
    "            print(\"Task completed at: {} [GMT].\".format(\" \".join(task.end_time.isoformat().split(\"T\"))))\n",
    "            break\n",
    "        elif any(status in s for s in [\"FAILED\", \"ABORTED\"]):\n",
    "            print(\"\\nTask {}\".format(status))\n",
    "            break\n",
    "    except TypeError:\n",
    "        status = task.status\n",
    "        if status == \"DRAFT\":\n",
    "            print(\"\\nTask is a draft only.\")\n",
    "            break\n",
    "    except KeyboardInterrupt:\n",
    "        print(\"\\nKeyboard interruption. Exiting.\")\n",
    "        print(\"Task: {}\".format(task.name))\n",
    "        print(\"Task ID: {}\".format(task.id))\n",
    "        print(\"Task status upon exit at {}: {}\".format(time.ctime(), status))\n",
    "        exit(1)"
   ]
  },
  {
   "cell_type": "code",
   "execution_count": null,
   "metadata": {
    "collapsed": false
   },
   "outputs": [],
   "source": []
  },
  {
   "cell_type": "code",
   "execution_count": 15,
   "metadata": {
    "collapsed": false
   },
   "outputs": [
    {
     "data": {
      "text/plain": [
       "datetime.datetime(2016, 8, 20, 23, 1, 20)"
      ]
     },
     "execution_count": 15,
     "metadata": {},
     "output_type": "execute_result"
    }
   ],
   "source": [
    "task.end_time"
   ]
  },
  {
   "cell_type": "code",
   "execution_count": 14,
   "metadata": {
    "collapsed": false
   },
   "outputs": [
    {
     "data": {
      "text/plain": [
       "'2016-08-20 23:01:20'"
      ]
     },
     "execution_count": 14,
     "metadata": {},
     "output_type": "execute_result"
    }
   ],
   "source": [
    "task.end_time.strftime('%Y-%m-%d %H:%M:%S')\n"
   ]
  },
  {
   "cell_type": "code",
   "execution_count": null,
   "metadata": {
    "collapsed": true
   },
   "outputs": [],
   "source": []
  }
 ],
 "metadata": {
  "anaconda-cloud": {},
  "kernelspec": {
   "display_name": "Python [Root]",
   "language": "python",
   "name": "Python [Root]"
  },
  "language_info": {
   "codemirror_mode": {
    "name": "ipython",
    "version": 2
   },
   "file_extension": ".py",
   "mimetype": "text/x-python",
   "name": "python",
   "nbconvert_exporter": "python",
   "pygments_lexer": "ipython2",
   "version": "2.7.12"
  }
 },
 "nbformat": 4,
 "nbformat_minor": 0
}
