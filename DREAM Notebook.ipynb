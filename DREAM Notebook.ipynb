{
 "cells": [
  {
   "cell_type": "markdown",
   "metadata": {},
   "source": [
    "# Using the Seven Bridges Public SMC-RNA DREAM Project\n",
    "\n",
    "In this Jupyter Notebook:\n",
    "- we'll review some basic Seven Bridges API functions\n",
    "- examine the training data for the DREAM Challenge\n",
    "- use a set of helper functions to easily filter files and apps \n",
    "- learn how to test a single app across all the DREAM training data in one click"
   ]
  },
  {
   "cell_type": "code",
   "execution_count": 1,
   "metadata": {
    "collapsed": false
   },
   "outputs": [],
   "source": [
    "from __future__ import print_function\n",
    "from os import environ\n",
    "from datetime import datetime\n",
    "from time import sleep\n",
    "import sevenbridges as sbg\n",
    "from dream_helpers import *\n",
    "import pprint \n",
    "pp = pprint.PrettyPrinter(indent=4)"
   ]
  },
  {
   "cell_type": "markdown",
   "metadata": {},
   "source": [
    "Before using the notebook, add API_URL and AUTH_TOKEN to your OS environment\n",
    "\n",
    "API_URL is \"https://cgc-api.sbgenomics.com/v2\"\n",
    "\n",
    "AUTH_TOKEN can be retrieved from the Account settings on the CGC (see the Developer tab) \n",
    "\n",
    "\n",
    "    export API_URL=\"https://cgc-api.sbgenomics.com/v2\"\n",
    "    export AUTH_TOKEN=<cgc auth_token>"
   ]
  },
  {
   "cell_type": "code",
   "execution_count": 2,
   "metadata": {
    "collapsed": false
   },
   "outputs": [],
   "source": [
    "# Create the API object using a config built from your environment variables\n",
    "api = sbg.Api(config=sbg.Config(url=environ['API_URL'], token=environ['AUTH_TOKEN']))"
   ]
  },
  {
   "cell_type": "code",
   "execution_count": 4,
   "metadata": {
    "collapsed": false
   },
   "outputs": [
    {
     "name": "stdout",
     "output_type": "stream",
     "text": [
      "Attributes of root api object: ['__class__', '__delattr__', '__dict__', '__doc__', '__format__', '__getattribute__', '__hash__', '__init__', '__module__', '__new__', '__reduce__', '__reduce_ex__', '__repr__', '__setattr__', '__sizeof__', '__str__', '__subclasshook__', '__weakref__', '_limit', '_remaining', '_request', '_request_id', '_reset', '_session', 'apps', 'billing_groups', 'delete', 'download_pool', 'endpoints', 'files', 'get', 'headers', 'invoices', 'limit', 'oauth_token', 'patch', 'post', 'projects', 'put', 'remaining', 'request_id', 'reset_time', 'session', 'tasks', 'timeout', 'token', 'upload_pool', 'url', 'users']\n",
      "\n",
      "Attributes of api.files: ['_API', '_URL', '__class__', '__delattr__', '__dict__', '__doc__', '__format__', '__getattribute__', '__hash__', '__init__', '__module__', '__new__', '__reduce__', '__reduce_ex__', '__repr__', '__setattr__', '__sizeof__', '__str__', '__subclasshook__', '__weakref__', '_fields', '_modified_data', '_query', 'copy', 'created_on', 'delete', 'download', 'download_info', 'equals', 'get', 'href', 'id', 'metadata', 'modified_on', 'name', 'origin', 'project', 'query', 'reload', 'save', 'size', 'stream', 'upload']\n"
     ]
    }
   ],
   "source": [
    "\"\"\"\n",
    "Getting to know the API\n",
    "    Remember that you can introspect any object using the dir() function.\n",
    "\"\"\"\n",
    "print(\"Attributes of root api object: {}\".format(dir(api)))\n",
    "print(\"\\nAttributes of api.files: {}\".format(dir(api.files)))"
   ]
  },
  {
   "cell_type": "markdown",
   "metadata": {},
   "source": [
    "## Basic API Functions\n",
    "Here's a few quick examples to help you gett to know how to make common calls using the API"
   ]
  },
  {
   "cell_type": "code",
   "execution_count": 5,
   "metadata": {
    "collapsed": false
   },
   "outputs": [
    {
     "name": "stdout",
     "output_type": "stream",
     "text": [
      "Username: gauravdream\n",
      "\n",
      "List of project names: \n",
      "[u'DREAM-Eval', u'Kallisto-DREAM', u'DREAM']\n",
      "\n",
      "List of project IDs: \n",
      "[u'gauravdream/dream-eval', u'gauravCGC/kallisto-dream', u'gauravdream/dream']\n"
     ]
    }
   ],
   "source": [
    "# Get username\n",
    "username = api.users.me().username\n",
    "print(\"Username: {}\".format(username))\n",
    "\n",
    "# Get list of projects (objects)\n",
    "projects_list = get_projects_list(api)\n",
    "\n",
    "# Get list of project names\n",
    "projects_list_by_name = [p.name for p in projects_list] \n",
    "print(\"\\nList of project names: {}{}\".format(\"\\n\", projects_list_by_name))\n",
    "\n",
    "# Get list of project IDs\n",
    "projects_list_by_id = [p.id for p in projects_list] \n",
    "print(\"\\nList of project IDs: {}{}\".format(\"\\n\", projects_list_by_id))"
   ]
  },
  {
   "cell_type": "code",
   "execution_count": 6,
   "metadata": {
    "collapsed": false
   },
   "outputs": [
    {
     "name": "stdout",
     "output_type": "stream",
     "text": [
      "List of project names: \n",
      "DREAM-Eval\n",
      "Kallisto-DREAM\n",
      "DREAM\n",
      "\n",
      "List of project IDs: \n",
      "gauravdream/dream-eval\n",
      "gauravCGC/kallisto-dream\n",
      "gauravdream/dream\n"
     ]
    }
   ],
   "source": [
    "\"\"\"\n",
    "Throughout this notebook, we'll be often printing the names of objects \n",
    "    (e.g projects, files, apps) to sanity-check our calls. \n",
    "Let's use a helper function to clean up our prints and save us time.\n",
    "\"\"\"\n",
    "print(\"List of project names: \")\n",
    "print(*get_names(projects_list), sep=\"\\n\")\n",
    "print(\"\\nList of project IDs: \")\n",
    "print(*get_ids(projects_list), sep=\"\\n\")"
   ]
  },
  {
   "cell_type": "markdown",
   "metadata": {},
   "source": [
    "## Working with Projects\n",
    "\n",
    "\"Projects\" are workspaces that contains a set of files and applications which a group of collaborators can work on."
   ]
  },
  {
   "cell_type": "code",
   "execution_count": 7,
   "metadata": {
    "collapsed": false
   },
   "outputs": [
    {
     "name": "stdout",
     "output_type": "stream",
     "text": [
      "Query returned the following projects: \n",
      "gauravdream/dream-eval\n",
      "gauravCGC/kallisto-dream\n",
      "gauravdream/dream\n"
     ]
    }
   ],
   "source": [
    "\"\"\"\n",
    "Query all your projects and retrive a list of matching projects\n",
    "\"\"\"\n",
    "project_query = \"DREAM\"\n",
    "\n",
    "# Print projects matched by your query\n",
    "print(\"Query returned the following projects: \")\n",
    "print(*get_projects_by_string(api, project_query), sep=\"\\n\")"
   ]
  },
  {
   "cell_type": "code",
   "execution_count": 8,
   "metadata": {
    "collapsed": false
   },
   "outputs": [],
   "source": [
    "# Set the name of the project we'll use for this tutorial\n",
    "DREAM_PROJECT=\"gauravdream/dream\""
   ]
  },
  {
   "cell_type": "code",
   "execution_count": 8,
   "metadata": {
    "collapsed": false
   },
   "outputs": [
    {
     "name": "stdout",
     "output_type": "stream",
     "text": [
      "Apps in 'gauravdream/dream' project: \n",
      "DREAM Fusion Detection Evaluation Workflow\n",
      "DREAM Isoform Quantification Evaluation Workflow\n",
      "DREAM RSEM\n",
      "DREAM STAR\n",
      "DREAM TopHat\n",
      "import-synapse-data\n",
      "rsem-cut\n",
      "rsem-gunzip\n",
      "rsem-tar\n",
      "smcFusion-STAR-workflow\n",
      "smcFusion-TopHat-Workflow\n",
      "smcIsoform-RSEM-Workflow\n",
      "star-converter\n",
      "star-fusion\n",
      "star-tar\n",
      "tophat-converter\n",
      "tophat-grep\n",
      "tophat-tar\n"
     ]
    }
   ],
   "source": [
    "# Get list of applications in the your DREAM project\n",
    "def get_apps_in_project(api, project):\n",
    "    return list(api.apps.query(project).all())\n",
    "\n",
    "apps = get_apps_in_project(api, DREAM_PROJECT)\n",
    "\n",
    "# Print all apps in DREAM Project\n",
    "print(\"Apps in '{}' project: \".format(DREAM_PROJECT))\n",
    "print(*get_names(apps), sep=\"\\n\")"
   ]
  },
  {
   "cell_type": "code",
   "execution_count": 10,
   "metadata": {
    "collapsed": false,
    "scrolled": true
   },
   "outputs": [
    {
     "name": "stdout",
     "output_type": "stream",
     "text": [
      "Files in 'gauravdream/dream' project:\n",
      "GRCh37_index.tar.gz\n",
      "Homo_sapiens.GRCh37.75.dna_sm.primary_assembly.fa.gz\n",
      "Homo_sapiens.GRCh37.75.gtf.gz\n",
      "Homo_sapiens.GRCh37.75.gtf.txt\n",
      "_1_result.out\n",
      "_2_result.out\n",
      "ensembl.hg19.txt\n",
      "rererunning_sim8_rsem_isoform_quant.tsv\n",
      "rerunning_sim8_rsem_isoform_quant.tsv\n",
      "rsem_index.tar.gz\n",
      "sim11_filtered.bedpe\n",
      "sim11_isoforms_truth.txt\n",
      "sim11_mergeSort_1.fq.gz\n",
      "sim11_mergeSort_2.fq.gz\n",
      "sim13_filtered.bedpe\n",
      "sim13_isoforms_truth.txt\n",
      "sim13_mergeSort_1.fq.gz\n",
      "sim13_mergeSort_2.fq.gz\n",
      "sim14_filtered.bedpe\n",
      "sim14_isoforms_truth.txt\n",
      "sim14_mergeSort_1.fq.gz\n",
      "sim14_mergeSort_2.fq.gz\n",
      "sim15_filtered.bedpe\n",
      "sim15_isoforms_truth.txt\n",
      "sim15_mergeSort_1.fq.gz\n",
      "sim15_mergeSort_2.fq.gz\n",
      "sim16_filtered.bedpe\n",
      "sim16_isoforms_truth.txt\n",
      "sim16_mergeSort_1.fq.gz\n",
      "sim16_mergeSort_2.fq.gz\n",
      "sim17_filtered.bedpe\n",
      "sim17_isoforms_truth.txt\n",
      "sim17_mergeSort_1.fq.gz\n",
      "sim17_mergeSort_2.fq.gz\n",
      "sim19_filtered.bedpe\n",
      "sim19_isoforms_truth.txt\n",
      "sim19_mergeSort_1.fq.gz\n",
      "sim19_mergeSort_2.fq.gz\n",
      "sim1_filtered.bedpe\n",
      "sim1_isoforms_truth.txt\n",
      "sim1_mergeSort_1.fq.gz\n",
      "sim1_mergeSort_2.fq.gz\n",
      "sim1a_shrunk_1.fq\n",
      "sim1a_shrunk_2.fq\n",
      "sim1a_shrunk_star_output.bedpe\n",
      "sim21_filtered.bedpe\n",
      "sim21_isoforms_truth.txt\n",
      "sim21_mergeSort_1.fq.gz\n",
      "sim21_mergeSort_2.fq.gz\n",
      "sim2_filtered.bedpe\n",
      "sim2_isoforms_truth.txt\n",
      "sim2_mergeSort_1.fq.gz\n",
      "sim2_mergeSort_2.fq.gz\n",
      "sim3_filtered.bedpe\n",
      "sim3_isoforms_truth.txt\n",
      "sim3_mergeSort_1.fq.gz\n",
      "sim3_mergeSort_2.fq.gz\n",
      "sim4_filtered.bedpe\n",
      "sim4_isoforms_truth.txt\n",
      "sim4_mergeSort_1.fq.gz\n",
      "sim4_mergeSort_2.fq.gz\n",
      "sim5_filtered.bedpe\n",
      "sim5_isoforms_truth.txt\n",
      "sim5_mergeSort_1.fq.gz\n",
      "sim5_mergeSort_2.fq.gz\n",
      "sim7_filtered.bedpe\n",
      "sim7_isoforms_truth.txt\n",
      "sim7_mergeSort_1.fq.gz\n",
      "sim7_mergeSort_2.fq.gz\n",
      "sim8_filtered.bedpe\n",
      "sim8_isoform_quants.tsv\n",
      "sim8_isoforms_truth.txt\n",
      "sim8_mergeSort_1.fq.gz\n",
      "sim8_mergeSort_2.fq.gz\n",
      "sim8_rsem_isoform_quant.tsv\n",
      "sim8_star_output.bedpe\n",
      "sim8_tophat_output_filtered_fusion.bedpe\n",
      "star_index.tar.gz\n",
      "tophat_bowtie1_index.tar.gz\n"
     ]
    }
   ],
   "source": [
    "# Get list of file objects in the test DREAM project\n",
    "files = get_files_in_project(api, DREAM_PROJECT)\n",
    "\n",
    "# Print all files in DREAM project\n",
    "print(\"Files in '{}' project:\".format(DREAM_PROJECT))\n",
    "print(*sorted(get_names(files)), sep=\"\\n\")"
   ]
  },
  {
   "cell_type": "code",
   "execution_count": 22,
   "metadata": {
    "collapsed": false
   },
   "outputs": [
    {
     "name": "stdout",
     "output_type": "stream",
     "text": [
      "Files in 'gauravdream/dream' project with 'mergeSort' in filename:\n",
      "sim11_mergeSort_1.fq.gz\n",
      "sim11_mergeSort_2.fq.gz\n",
      "sim13_mergeSort_1.fq.gz\n",
      "sim13_mergeSort_2.fq.gz\n",
      "sim14_mergeSort_1.fq.gz\n",
      "sim14_mergeSort_2.fq.gz\n",
      "sim15_mergeSort_1.fq.gz\n",
      "sim15_mergeSort_2.fq.gz\n",
      "sim16_mergeSort_1.fq.gz\n",
      "sim16_mergeSort_2.fq.gz\n",
      "sim17_mergeSort_1.fq.gz\n",
      "sim17_mergeSort_2.fq.gz\n",
      "sim19_mergeSort_1.fq.gz\n",
      "sim19_mergeSort_2.fq.gz\n",
      "sim1_mergeSort_1.fq.gz\n",
      "sim1_mergeSort_2.fq.gz\n",
      "sim21_mergeSort_1.fq.gz\n",
      "sim21_mergeSort_2.fq.gz\n",
      "sim2_mergeSort_1.fq.gz\n",
      "sim2_mergeSort_2.fq.gz\n",
      "sim3_mergeSort_1.fq.gz\n",
      "sim3_mergeSort_2.fq.gz\n",
      "sim4_mergeSort_1.fq.gz\n",
      "sim4_mergeSort_2.fq.gz\n",
      "sim5_mergeSort_1.fq.gz\n",
      "sim5_mergeSort_2.fq.gz\n",
      "sim7_mergeSort_1.fq.gz\n",
      "sim7_mergeSort_2.fq.gz\n",
      "sim8_mergeSort_1.fq.gz\n",
      "sim8_mergeSort_2.fq.gz\n"
     ]
    }
   ],
   "source": [
    "# Get only the fastq files - filter for \"mergeSort\" in filename \n",
    "#     (note that there are others ways to do this)\n",
    "str_filter = \"mergeSort\"\n",
    "mergeSort_files = get_files_by_filename_filter(api, DREAM_PROJECT, str_filter)\n",
    "\n",
    "# Print filenames for the gunzipped fastq files identified\n",
    "print(\"Files in '{}' project with '{}' in filename:\".format(DREAM_PROJECT, str_filter))\n",
    "print(*sorted(get_names(mergeSort_files)), sep=\"\\n\")"
   ]
  },
  {
   "cell_type": "code",
   "execution_count": 21,
   "metadata": {
    "collapsed": false
   },
   "outputs": [
    {
     "name": "stdout",
     "output_type": "stream",
     "text": [
      "Metadata for 'sim11_mergeSort_2.fq.gz'\n",
      "{   u'experimental_strategy': u'RNA-Seq',\n",
      "    u'investigation': u'DREAM SMC-RNA',\n",
      "    u'paired_end': u'2',\n",
      "    u'sample_id': u'sim11'}\n"
     ]
    }
   ],
   "source": [
    "# Get metadata properties for a single file\n",
    "print(\"Metadata for '{}'\".format(mergeSort_files[0].name))\n",
    "pp.pprint(dict(mergeSort_files[0].metadata))"
   ]
  },
  {
   "cell_type": "code",
   "execution_count": 25,
   "metadata": {
    "collapsed": false
   },
   "outputs": [
    {
     "name": "stdout",
     "output_type": "stream",
     "text": [
      "Files in 'gauravdream/dream' project with metadata filter:\n",
      "sim8_isoforms_truth.txt\n",
      "sim8_filtered.bedpe\n",
      "sim8_mergeSort_1.fq.gz\n",
      "sim8_mergeSort_2.fq.gz\n"
     ]
    }
   ],
   "source": [
    "# Return list of file ids based on metadata\n",
    "metadata_filters = {\n",
    "                    \"sample_id\": \"sim8\",\n",
    "                    \"experimental_strategy\": \"RNA-Seq\"\n",
    "                   }\n",
    "\n",
    "files_by_metadata = get_files_by_metadata(api, DREAM_PROJECT, metadata_filters)\n",
    "\n",
    "# Print filenames for all files returned by metadata filter\n",
    "print(\"Files in '{}' project with metadata filter:\".format(DREAM_PROJECT))\n",
    "print(*get_names(files_by_metadata), sep=\"\\n\")"
   ]
  },
  {
   "cell_type": "code",
   "execution_count": 27,
   "metadata": {
    "collapsed": false
   },
   "outputs": [
    {
     "name": "stdout",
     "output_type": "stream",
     "text": [
      "Files in 'gauravdream/dream' project with extension filter:\n",
      "sim11_mergeSort_1.fq.gz\n",
      "sim11_mergeSort_2.fq.gz\n",
      "sim13_mergeSort_1.fq.gz\n",
      "sim13_mergeSort_2.fq.gz\n",
      "sim14_mergeSort_1.fq.gz\n",
      "sim14_mergeSort_2.fq.gz\n",
      "sim15_mergeSort_1.fq.gz\n",
      "sim15_mergeSort_2.fq.gz\n",
      "sim16_mergeSort_1.fq.gz\n",
      "sim16_mergeSort_2.fq.gz\n",
      "sim17_mergeSort_1.fq.gz\n",
      "sim17_mergeSort_2.fq.gz\n",
      "sim19_mergeSort_1.fq.gz\n",
      "sim19_mergeSort_2.fq.gz\n",
      "sim1_mergeSort_1.fq.gz\n",
      "sim1_mergeSort_2.fq.gz\n",
      "sim21_mergeSort_1.fq.gz\n",
      "sim21_mergeSort_2.fq.gz\n",
      "sim2_mergeSort_1.fq.gz\n",
      "sim2_mergeSort_2.fq.gz\n",
      "sim3_mergeSort_1.fq.gz\n",
      "sim3_mergeSort_2.fq.gz\n",
      "sim4_mergeSort_1.fq.gz\n",
      "sim4_mergeSort_2.fq.gz\n",
      "sim5_mergeSort_1.fq.gz\n",
      "sim5_mergeSort_2.fq.gz\n",
      "sim7_mergeSort_1.fq.gz\n",
      "sim7_mergeSort_2.fq.gz\n",
      "sim8_mergeSort_1.fq.gz\n",
      "sim8_mergeSort_2.fq.gz\n"
     ]
    }
   ],
   "source": [
    "# Another implementation - trim a list (e.g. filenames) by explicit file extension\n",
    "\n",
    "files_by_ext = get_files_by_extension(api, DREAM_PROJECT, ext=\"fq.gz\")\n",
    "\n",
    "# Print files returned by extension query\n",
    "print(\"Files in '{}' project with extension filter:\".format(DREAM_PROJECT))\n",
    "print(*sorted(get_names(files_by_ext)), sep=\"\\n\")"
   ]
  },
  {
   "cell_type": "code",
   "execution_count": 31,
   "metadata": {
    "collapsed": false
   },
   "outputs": [
    {
     "name": "stdout",
     "output_type": "stream",
     "text": [
      "File returned by filename filter: sim1_mergeSort_1.fq.gz\n"
     ]
    }
   ],
   "source": [
    "# Get a file object by its explicit filename\n",
    "\n",
    "file_by_name = get_file_by_name(api, DREAM_PROJECT, filename=\"sim1_mergeSort_1.fq.gz\")\n",
    "\n",
    "# Print filename for file returned by extension query\n",
    "print(\"File returned by filename filter: {}\".format(file_by_name.name))"
   ]
  },
  {
   "cell_type": "code",
   "execution_count": 34,
   "metadata": {
    "collapsed": false
   },
   "outputs": [
    {
     "name": "stdout",
     "output_type": "stream",
     "text": [
      "Files in 'gauravdream/dream' project with '_1.' in filename:\n",
      "sim11_mergeSort_1.fq.gz\n",
      "sim13_mergeSort_1.fq.gz\n",
      "sim14_mergeSort_1.fq.gz\n",
      "sim15_mergeSort_1.fq.gz\n",
      "sim16_mergeSort_1.fq.gz\n",
      "sim17_mergeSort_1.fq.gz\n",
      "sim19_mergeSort_1.fq.gz\n",
      "sim1_mergeSort_1.fq.gz\n",
      "sim1a_shrunk_1.fq\n",
      "sim21_mergeSort_1.fq.gz\n",
      "sim2_mergeSort_1.fq.gz\n",
      "sim3_mergeSort_1.fq.gz\n",
      "sim4_mergeSort_1.fq.gz\n",
      "sim5_mergeSort_1.fq.gz\n",
      "sim7_mergeSort_1.fq.gz\n",
      "sim8_mergeSort_1.fq.gz\n"
     ]
    }
   ],
   "source": [
    "# Get file objects by querying the filenames with a string\n",
    "#     for example, get all paired_end=1 fq.gz files\n",
    "str_query = \"_1.\"\n",
    "files_by_string = get_files_by_string(api, DREAM_PROJECT, query=str_query)\n",
    "\n",
    "# Print filename for files returned by filename query\n",
    "print(\"Files in '{}' project with '{}' in filename:\".format(DREAM_PROJECT, str_query))\n",
    "print(*sorted(get_names(files_by_string)), sep=\"\\n\")"
   ]
  },
  {
   "cell_type": "markdown",
   "metadata": {},
   "source": [
    "# Working with CWL Applications\n",
    "\n",
    "\"Applications\" are tools (single executables) or workflows (chains of tools) used to analyze data. All applications on the CGC are described using Draft 2 of the Common Workflow Language (stay tuned for info on support for CWL v1.0!)."
   ]
  },
  {
   "cell_type": "code",
   "execution_count": 38,
   "metadata": {
    "collapsed": false
   },
   "outputs": [
    {
     "name": "stdout",
     "output_type": "stream",
     "text": [
      "The apps in the 'gauravdream/dream' project: \n",
      "DREAM Fusion Detection Evaluation Workflow\n",
      "DREAM Isoform Quantification Evaluation Workflow\n",
      "DREAM RSEM\n",
      "DREAM STAR\n",
      "DREAM TopHat\n",
      "import-synapse-data\n",
      "rsem-cut\n",
      "rsem-gunzip\n",
      "rsem-tar\n",
      "smcFusion-STAR-workflow\n",
      "smcFusion-TopHat-Workflow\n",
      "smcIsoform-RSEM-Workflow\n",
      "star-converter\n",
      "star-fusion\n",
      "star-tar\n",
      "tophat-converter\n",
      "tophat-grep\n",
      "tophat-tar\n"
     ]
    }
   ],
   "source": [
    "# Print a list of apps (by name) in the project\n",
    "print(\"The apps in the '{}' project: \".format(DREAM_PROJECT))\n",
    "print(*sorted(get_names(get_apps_in_project(api, DREAM_PROJECT))), sep=\"\\n\")"
   ]
  },
  {
   "cell_type": "code",
   "execution_count": 41,
   "metadata": {
    "collapsed": false
   },
   "outputs": [
    {
     "name": "stdout",
     "output_type": "stream",
     "text": [
      "The apps in the 'gauravdream/dream' project filtered by an app-name query: \n",
      "DREAM RSEM\n",
      "rsem-cut\n",
      "rsem-gunzip\n",
      "rsem-tar\n",
      "smcIsoform-RSEM-Workflow\n"
     ]
    }
   ],
   "source": [
    "# Grab the \"RSEM\" apps\n",
    "apps = get_apps_by_string(api, DREAM_PROJECT, query=\"RSEM\")\n",
    "\n",
    "# Print a list of apps (by query) in the project\n",
    "print(\"The apps in the '{}' project filtered by an app-name query: \".format(DREAM_PROJECT))\n",
    "print(*sorted(get_names(apps)), sep=\"\\n\")"
   ]
  },
  {
   "cell_type": "code",
   "execution_count": 50,
   "metadata": {
    "collapsed": false
   },
   "outputs": [
    {
     "name": "stdout",
     "output_type": "stream",
     "text": [
      "App ID: gauravdream/dream/smcisoform-rsem-workflow/1\n",
      "App Name: smcIsoform-RSEM-Workflow\n"
     ]
    }
   ],
   "source": [
    "# Retrive a specific app\n",
    "\n",
    "DREAM_APP = get_app_by_name(api, DREAM_PROJECT, app_name='smcIsoform-RSEM-Workflow')\n",
    "\n",
    "# Print the ID and name of your app\n",
    "print(\"App ID: {}\".format(DREAM_APP.id))\n",
    "print(\"App Name: {}\".format(DREAM_APP.name))"
   ]
  },
  {
   "cell_type": "code",
   "execution_count": 160,
   "metadata": {
    "collapsed": false
   },
   "outputs": [
    {
     "name": "stdout",
     "output_type": "stream",
     "text": [
      "App inputs by (Label, ID):\n",
      "(u'TUMOR_FASTQ_1', u'#input')\n",
      "(u'TUMOR_FASTQ_2', u'#input_1')\n",
      "(u'index', u'#index')\n",
      "(None, u'#pairedend')\n",
      "(None, u'#strandspecific')\n",
      "(None, u'#threads')\n",
      "(None, u'#output_filename')\n",
      "(None, u'#f')\n"
     ]
    }
   ],
   "source": [
    "# You can get the CWL description (format: JSON) for your app\n",
    "cwl_app = DREAM_APP.raw\n",
    "\n",
    "# Get the required inputs (type: dict) from the CWL description \n",
    "inputs = DREAM_APP.raw['inputs']\n",
    "\n",
    "# Print the Input Port labels (if exists) and IDs\n",
    "print(\"App inputs by (Label, ID):\")\n",
    "print(*zip(get_input_labels(inputs), get_input_ids(inputs)), sep=\"\\n\")"
   ]
  },
  {
   "cell_type": "code",
   "execution_count": 176,
   "metadata": {
    "collapsed": false
   },
   "outputs": [
    {
     "name": "stdout",
     "output_type": "stream",
     "text": [
      "All inputs: \n",
      "{   'f': '',\n",
      "    'index': '',\n",
      "    'input': '',\n",
      "    'input_1': '',\n",
      "    'output_filename': '',\n",
      "    'pairedend': '',\n",
      "    'strandspecific': '',\n",
      "    'threads': ''}\n",
      "\n",
      "Required inputs: \n",
      "{   'f': '', 'index': '', 'input': '', 'input_1': '', 'output_filename': ''}\n"
     ]
    },
    {
     "data": {
      "text/plain": [
       "{'f': '', 'index': '', 'input': '', 'input_1': '', 'output_filename': ''}"
      ]
     },
     "execution_count": 176,
     "metadata": {},
     "output_type": "execute_result"
    }
   ],
   "source": [
    "\"\"\"\n",
    "When submitting tasks, you will need to submit a dict() with the inputs and values,\n",
    "    where the keys are the input port IDs\n",
    "    and the values are the actual inputs, e.g. file objects, integers, strings, etc.\n",
    "\n",
    "In dream_helpers.py, there is the generate_input_object method to help you with this.\n",
    "\n",
    "\"\"\"\n",
    "print(\"All inputs: \")\n",
    "generate_input_object(DREAM_APP, required=False, print_opt=True)\n",
    "print(\"\\nRequired inputs: \")\n",
    "generate_input_object(DREAM_APP, required=True, print_opt=True)"
   ]
  },
  {
   "cell_type": "code",
   "execution_count": 58,
   "metadata": {
    "collapsed": false
   },
   "outputs": [
    {
     "name": "stdout",
     "output_type": "stream",
     "text": [
      "Index File: rsem_index.tar.gz\n"
     ]
    }
   ],
   "source": [
    "# Now that we have the app, and the information for which files are needed, let's get the files\n",
    "# Grab the rsem_index file by searching by string and retrieving the first result\n",
    "RSEM_INDEX = get_files_by_string(api, DREAM_PROJECT, query='rsem_index')[0]\n",
    "print(\"Index File: {}\".format(RSEM_INDEX.name))"
   ]
  },
  {
   "cell_type": "code",
   "execution_count": 77,
   "metadata": {
    "collapsed": false
   },
   "outputs": [
    {
     "name": "stdout",
     "output_type": "stream",
     "text": [
      "Filtered list: \n",
      "sim1_mergeSort_1.fq.gz\n",
      "sim1_mergeSort_2.fq.gz\n",
      "sim8_mergeSort_1.fq.gz\n",
      "sim8_mergeSort_2.fq.gz\n"
     ]
    }
   ],
   "source": [
    "# Grab all the fq.gz files\n",
    "fastqs_all = get_files_by_extension(api, DREAM_PROJECT, ext='fq.gz')\n",
    "\n",
    "# Define a list of filters you want to apply to your fastq files\n",
    "#     Note the use of 'sim1_' to ensure that a query of \"sim1\" doesn't return \"sim11\" files as well\n",
    "filter_list = ['sim8_', 'sim1_']\n",
    "fastqs = filter_by_prefixes(fastqs_all, filter_list)\n",
    "\n",
    "# Print the final list of files\n",
    "print(\"Filtered list: \")\n",
    "print(*sorted(get_names(fastqs)), sep=\"\\n\")"
   ]
  },
  {
   "cell_type": "code",
   "execution_count": 78,
   "metadata": {
    "collapsed": false
   },
   "outputs": [
    {
     "name": "stdout",
     "output_type": "stream",
     "text": [
      "Pairs of fastq files: \n",
      "(u'sim1_mergeSort_1.fq.gz', u'sim1_mergeSort_2.fq.gz')\n",
      "(u'sim8_mergeSort_1.fq.gz', u'sim8_mergeSort_2.fq.gz')\n"
     ]
    }
   ],
   "source": [
    "# Split the fastqs into two lists by paired-end value\n",
    "FQ1 = [fq for fq in fastqs if '_1.' in fq.name]\n",
    "FQ2 = [fq for fq in fastqs if '_2.' in fq.name]\n",
    "fastqs_paired = zip(FQ1, FQ2)\n",
    "\n",
    "# Note that we've introduced many ways to do this query\n",
    "#     e.g. you can split by metadata value ['paired_end']\n",
    "\n",
    "# There are additional functions for pairing fastqs in dream_helpers.py\n",
    "\n",
    "# Verify that the lists split properly\n",
    "print(\"Pairs of fastq files: \")\n",
    "print(*[(f[0].name, f[1].name) for f in fastqs_paired], sep=\"\\n\")"
   ]
  },
  {
   "cell_type": "code",
   "execution_count": 80,
   "metadata": {
    "collapsed": false
   },
   "outputs": [
    {
     "name": "stdout",
     "output_type": "stream",
     "text": [
      "Task created: DREAM_smcIsoform-RSEM-Workflow_sim1 - 08-22-2016 22:50:06\n",
      "Input files: sim1_mergeSort_1.fq.gz, sim1_mergeSort_2.fq.gz\n",
      "Output file(s): sim1_isoform_quants.tsv\n",
      "\n",
      "\n",
      "Task created: DREAM_smcIsoform-RSEM-Workflow_sim8 - 08-22-2016 22:50:08\n",
      "Input files: sim8_mergeSort_1.fq.gz, sim8_mergeSort_2.fq.gz\n",
      "Output file(s): sim8_isoform_quants.tsv\n",
      "\n",
      "\n"
     ]
    }
   ],
   "source": [
    "# The Main Event - run a task for each pair of fastqs!\n",
    "\n",
    "for i, fq in enumerate(fastqs_paired):\n",
    "    \n",
    "    # Create individualized task names with sample ID and current time\n",
    "    sample_id = fq[0].metadata['sample_id']\n",
    "    current_time = datetime.now().strftime(\"%m-%d-%Y %H:%M:%S\")\n",
    "    TASK_NAME = \"DREAM_{}_{} - {}\".format(DREAM_APP.name, sample_id, current_time)\n",
    "    \n",
    "    # Create the input object\n",
    "    #     - index is the same for all tasks\n",
    "    #     - iterate over the lists to pair files\n",
    "    #     - set custom output filename (get sample ID from file)\n",
    "\n",
    "    INPUTS = {\n",
    "        \"index\": RSEM_INDEX,\n",
    "        \"input\": fq[0],\n",
    "        \"input_1\": fq[1],\n",
    "        \"output_filename\": sample_id + \"_isoform_quants.tsv\"\n",
    "    }\n",
    "\n",
    "    # Create the task\n",
    "    api.tasks.create(name=TASK_NAME, \n",
    "                     project=DREAM_PROJECT,\n",
    "                     app=DREAM_APP, \n",
    "                     inputs=INPUTS,\n",
    "                     run=False) # IMPORTANT! set run=True if you want to run, not just draft the tasks\n",
    "    print(\"Task created: {}\".format(TASK_NAME))\n",
    "    print(\"Input files: {}, {}\".format(fq[0].name, fq[1].name))\n",
    "    print(\"Output file(s): {}\".format(sample_id + \"_isoform_quants.tsv\"))\n",
    "    print(\"\\n\")"
   ]
  },
  {
   "cell_type": "code",
   "execution_count": 153,
   "metadata": {
    "collapsed": false,
    "scrolled": true
   },
   "outputs": [
    {
     "name": "stdout",
     "output_type": "stream",
     "text": [
      "\n",
      "Task created: DREAM_smcIsoform-RSEM-Workflow_sim11 - 08-23-2016 15:32:22\n",
      "Input files: sim11_mergeSort_1.fq.gz, sim11_mergeSort_2.fq.gz\n",
      "Output file(s): sim11_isoforms_quants.tsv\n",
      "\n",
      "Task created: DREAM_smcIsoform-RSEM-Workflow_sim13 - 08-23-2016 15:32:29\n",
      "Input files: sim13_mergeSort_1.fq.gz, sim13_mergeSort_2.fq.gz\n",
      "Output file(s): sim13_isoforms_quants.tsv\n",
      "\n",
      "Task created: DREAM_smcIsoform-RSEM-Workflow_sim14 - 08-23-2016 15:32:36\n",
      "Input files: sim14_mergeSort_1.fq.gz, sim14_mergeSort_2.fq.gz\n",
      "Output file(s): sim14_isoforms_quants.tsv\n",
      "\n",
      "Task created: DREAM_smcIsoform-RSEM-Workflow_sim15 - 08-23-2016 15:32:42\n",
      "Input files: sim15_mergeSort_1.fq.gz, sim15_mergeSort_2.fq.gz\n",
      "Output file(s): sim15_isoforms_quants.tsv\n",
      "\n",
      "Task created: DREAM_smcIsoform-RSEM-Workflow_sim16 - 08-23-2016 15:32:49\n",
      "Input files: sim16_mergeSort_1.fq.gz, sim16_mergeSort_2.fq.gz\n",
      "Output file(s): sim16_isoforms_quants.tsv\n",
      "\n",
      "Task created: DREAM_smcIsoform-RSEM-Workflow_sim17 - 08-23-2016 15:32:56\n",
      "Input files: sim17_mergeSort_1.fq.gz, sim17_mergeSort_2.fq.gz\n",
      "Output file(s): sim17_isoforms_quants.tsv\n",
      "\n",
      "Task created: DREAM_smcIsoform-RSEM-Workflow_sim19 - 08-23-2016 15:33:02\n",
      "Input files: sim19_mergeSort_1.fq.gz, sim19_mergeSort_2.fq.gz\n",
      "Output file(s): sim19_isoforms_quants.tsv\n",
      "\n",
      "Task created: DREAM_smcIsoform-RSEM-Workflow_sim1 - 08-23-2016 15:33:09\n",
      "Input files: sim1_mergeSort_1.fq.gz, sim1_mergeSort_2.fq.gz\n",
      "Output file(s): sim1_isoforms_quants.tsv\n",
      "\n",
      "Task created: DREAM_smcIsoform-RSEM-Workflow_sim21 - 08-23-2016 15:33:15\n",
      "Input files: sim21_mergeSort_1.fq.gz, sim21_mergeSort_2.fq.gz\n",
      "Output file(s): sim21_isoforms_quants.tsv\n",
      "\n",
      "Task created: DREAM_smcIsoform-RSEM-Workflow_sim2 - 08-23-2016 15:33:22\n",
      "Input files: sim2_mergeSort_1.fq.gz, sim2_mergeSort_2.fq.gz\n",
      "Output file(s): sim2_isoforms_quants.tsv\n",
      "\n",
      "Task created: DREAM_smcIsoform-RSEM-Workflow_sim3 - 08-23-2016 15:33:29\n",
      "Input files: sim3_mergeSort_1.fq.gz, sim3_mergeSort_2.fq.gz\n",
      "Output file(s): sim3_isoforms_quants.tsv\n",
      "\n",
      "Task created: DREAM_smcIsoform-RSEM-Workflow_sim4 - 08-23-2016 15:33:35\n",
      "Input files: sim4_mergeSort_1.fq.gz, sim4_mergeSort_2.fq.gz\n",
      "Output file(s): sim4_isoforms_quants.tsv\n",
      "\n",
      "Task created: DREAM_smcIsoform-RSEM-Workflow_sim5 - 08-23-2016 15:33:42\n",
      "Input files: sim5_mergeSort_1.fq.gz, sim5_mergeSort_2.fq.gz\n",
      "Output file(s): sim5_isoforms_quants.tsv\n",
      "\n",
      "Task created: DREAM_smcIsoform-RSEM-Workflow_sim7 - 08-23-2016 15:33:48\n",
      "Input files: sim7_mergeSort_1.fq.gz, sim7_mergeSort_2.fq.gz\n",
      "Output file(s): sim7_isoforms_quants.tsv\n",
      "\n",
      "Task created: DREAM_smcIsoform-RSEM-Workflow_sim8 - 08-23-2016 15:33:55\n",
      "Input files: sim8_mergeSort_1.fq.gz, sim8_mergeSort_2.fq.gz\n",
      "Output file(s): sim8_isoforms_quants.tsv\n",
      "\n",
      "15 tasks created in 'gauravdream/dream' with 'smcIsoform-RSEM-Workflow'\n"
     ]
    }
   ],
   "source": [
    "\"\"\"\n",
    "Let's put it all together!\n",
    "    This last section will give you the power to run an app on all the test files!\n",
    "    Use it carefully!\n",
    "\"\"\"\n",
    "\n",
    "DREAM_PROJECT = \"gauravdream/dream\"\n",
    "DREAM_APP = get_app_by_name(api, DREAM_PROJECT, app_name='smcIsoform-RSEM-Workflow')\n",
    "INDEX = get_file_by_name(api, DREAM_PROJECT, filename=\"rsem_index.tar.gz\")\n",
    "FASTQS = split_fastqs_tuple(fastqs=get_all_fastqs(api, DREAM_PROJECT))\n",
    "\n",
    "def test_rsem(api, project, app, index, fastqs, run_opt=False):\n",
    "    \n",
    "    # Set up list of task objects, which we can call later to check status, grab outputs, etc.\n",
    "    tasks = []\n",
    "    \n",
    "    for i, fq in enumerate(fastqs):\n",
    "\n",
    "        # Create individualized task names using the file's sample ID and current time\n",
    "        sample_id = fq[0].metadata['sample_id']\n",
    "        current_time = datetime.now().strftime(\"%m-%d-%Y %H:%M:%S\")\n",
    "        task_name = \"DREAM_{}_{} - {}\".format(app.name, sample_id, current_time)\n",
    "        output_filename = sample_id + \"_isoforms_quants.tsv\"\n",
    "\n",
    "        # Create the input object -- remember to rename based on your app's input IDs!!\n",
    "        inputs = {\n",
    "            \"index\": index,\n",
    "            \"input\": fq[0],\n",
    "            \"input_1\": fq[1],\n",
    "            \"output_filename\": output_filename\n",
    "        }\n",
    "\n",
    "        # Create the task\n",
    "        task = api.tasks.create(name=task_name, project=project, app=app, inputs=inputs, run=run_opt)\n",
    "        tasks.append(task)\n",
    "        sleep(5) # good idea to put a short (5-15 sec) break between jobs\n",
    "        \n",
    "        # Print information about the tasks\n",
    "        print(\"\\nTask created: {}\".format(task_name))\n",
    "        print(\"Input files: {}, {}\".format(fq[0].name, fq[1].name))\n",
    "        print(\"Output file(s): {}\".format(output_filename))\n",
    "    \n",
    "    return tasks\n",
    "\n",
    "# To run tasks, set run_opt to True\n",
    "RUN_OPT = False\n",
    "tasks = test_rsem(api, DREAM_PROJECT, DREAM_APP, INDEX, FASTQS, run_opt=RUN_OPT)\n",
    "print(\"\\n{} tasks created in '{}' with '{}'\".format(len(tasks), DREAM_PROJECT, DREAM_APP.name))"
   ]
  },
  {
   "cell_type": "code",
   "execution_count": 157,
   "metadata": {
    "collapsed": false
   },
   "outputs": [
    {
     "name": "stdout",
     "output_type": "stream",
     "text": [
      "'DREAM_smcIsoform-RSEM-Workflow_sim11 - 08-23-2016 15:32:22' status: DRAFT\n",
      "'DREAM_smcIsoform-RSEM-Workflow_sim13 - 08-23-2016 15:32:29' status: DRAFT\n",
      "'DREAM_smcIsoform-RSEM-Workflow_sim14 - 08-23-2016 15:32:36' status: DRAFT\n",
      "'DREAM_smcIsoform-RSEM-Workflow_sim15 - 08-23-2016 15:32:42' status: DRAFT\n",
      "'DREAM_smcIsoform-RSEM-Workflow_sim16 - 08-23-2016 15:32:49' status: DRAFT\n",
      "'DREAM_smcIsoform-RSEM-Workflow_sim17 - 08-23-2016 15:32:56' status: DRAFT\n",
      "'DREAM_smcIsoform-RSEM-Workflow_sim19 - 08-23-2016 15:33:02' status: DRAFT\n",
      "'DREAM_smcIsoform-RSEM-Workflow_sim1 - 08-23-2016 15:33:09' status: DRAFT\n",
      "'DREAM_smcIsoform-RSEM-Workflow_sim21 - 08-23-2016 15:33:15' status: DRAFT\n",
      "'DREAM_smcIsoform-RSEM-Workflow_sim2 - 08-23-2016 15:33:22' status: DRAFT\n",
      "'DREAM_smcIsoform-RSEM-Workflow_sim3 - 08-23-2016 15:33:29' status: DRAFT\n",
      "'DREAM_smcIsoform-RSEM-Workflow_sim4 - 08-23-2016 15:33:35' status: DRAFT\n",
      "'DREAM_smcIsoform-RSEM-Workflow_sim5 - 08-23-2016 15:33:42' status: DRAFT\n",
      "'DREAM_smcIsoform-RSEM-Workflow_sim7 - 08-23-2016 15:33:48' status: DRAFT\n",
      "'DREAM_smcIsoform-RSEM-Workflow_sim8 - 08-23-2016 15:33:55' status: DRAFT\n"
     ]
    }
   ],
   "source": [
    "# The \"tasks\" list now stores the task objects that you've generated\n",
    "#     You can refresh the status of each tasks and print using this function\n",
    "def refresh_task_status(task_object, print_opt=False):\n",
    "    task_object.reload()\n",
    "    if print_opt:\n",
    "        print(\"'{}' status: {}\".format(task_object.name, task_object.status))\n",
    "    return task_object\n",
    "\n",
    "def refresh_task_status_list(tasks_objects_list, print_opt=False):\n",
    "    return [refresh_task_status(t, print_opt) for t in tasks_objects_list]\n",
    "\n",
    "tasks = refresh_task_status_list(tasks, print_opt=True)"
   ]
  },
  {
   "cell_type": "code",
   "execution_count": 158,
   "metadata": {
    "collapsed": false
   },
   "outputs": [
    {
     "name": "stdout",
     "output_type": "stream",
     "text": [
      "{   'gtf': '', 'input': '', 'truth': ''}\n"
     ]
    }
   ],
   "source": [
    "\"\"\"\n",
    "Evaluation!\n",
    "    After your tasks are done completing, you can evaluate the \"truthiness\" of your tool's output.\n",
    "    For your convenience, the truth file of each sample has been annotated the with sample_id,\n",
    "    so you can easily grab the truth file for each task using the sample_id of the inputs.\n",
    "    \n",
    "    For example, the files with \"sample_id\" = \"sim11\":\n",
    "        sim11_mergeSort_1.fq.gz     # Training data\n",
    "        sim11_mergeSort_2.fq.gz     # Training data\n",
    "        sim11_isoforms_truth.txt    # Isoform quantification truth file\n",
    "        sim11_filtered.bedpe        # Gene fusion detection truth file\n",
    "    \n",
    "    The evaluation workflows are:\n",
    "        DREAM Isoform Quantification Evaluation Workflow\n",
    "        DREAM Fusion Detection Evaluation Workflow\n",
    "\"\"\"\n",
    "\n",
    "# Grab the evaluation app and print the input object\n",
    "EVAL_DREAM_APP = get_app_by_name(api, project=DREAM_PROJECT, app_name=\"DREAM Isoform Quantification Evaluation Workflow\")\n",
    "generate_input_object(EVAL_DREAM_APP, required=False, print_opt=True)"
   ]
  },
  {
   "cell_type": "code",
   "execution_count": 156,
   "metadata": {
    "collapsed": false
   },
   "outputs": [
    {
     "name": "stdout",
     "output_type": "stream",
     "text": [
      "Task: DREAM_smcIsoform-RSEM-Workflow_sim11 - 08-23-2016 15:32:22\n",
      "Status: DRAFT\n",
      "\n",
      "Inputs: {u'index': <File: id=57a9f513e4b0a2cad67e8581>, u'f': u'\"1,6\"', u'pairedend': True, u'output_filename': u'sim11_isoforms_quants.tsv', u'threads': 8, u'input_1': <File: id=57a9f513e4b0a2cad67e854b>, u'input': <File: id=57a9f513e4b0a2cad67e84db>, u'strandspecific': True}\n",
      "\n",
      "Outputs: {u'OUTPUT': None}\n"
     ]
    }
   ],
   "source": [
    "# Forgot your tasks' inputs and outputs? You can recall them easily:\n",
    "print_task = tasks[0]\n",
    "print(\"Task: {}\".format(print_task.name))\n",
    "print(\"\\nStatus: {}\".format(refresh_task_status(print_task).status))\n",
    "print(\"\\nInputs: {}\".format(print_task.inputs))\n",
    "print(\"\\nOutputs: {}\".format(print_task.outputs))"
   ]
  },
  {
   "cell_type": "code",
   "execution_count": 154,
   "metadata": {
    "collapsed": false
   },
   "outputs": [
    {
     "name": "stdout",
     "output_type": "stream",
     "text": [
      "No tasks drafted or started. Inputs unavailable.\n"
     ]
    }
   ],
   "source": [
    "# Evaluate RSEM output function\n",
    "def evaluate_rsem(api, project, eval_app, task_objects, run_opt=False):\n",
    "        \n",
    "    # Iterate over each task, grab the truth file, and set inputs\n",
    "    for i, task in enumerate(task_objects):\n",
    "        \n",
    "        eval_tasks = []\n",
    "        \n",
    "        # Create individualized task names using the input file's sample ID and current time\n",
    "        sample_id = task.inputs['input'].metadata['sample_id'] # IMPORTANT!! For your submission, you should set label as \"TUMOR_FASTQ_*\" and replace \"input\" here with \"TUMOR_FASTQ_1\"\n",
    "        current_time = datetime.now().strftime(\"%m-%d-%Y %H:%M:%S\")\n",
    "        eval_task_name = \"Evaluation_{}_{} - {}\".format(eval_app.name, sample_id, current_time)\n",
    "\n",
    "        # Grab the appropriate output from our task\n",
    "        input_tsv = task.outputs['OUTPUT']\n",
    "        \n",
    "        # Here's the fun part - grab the truth_tsv\n",
    "        truth_txt = get_file_by_name(api, DREAM_PROJECT, filename = sample_id + \"_isoforms_truth.txt\")\n",
    "        \n",
    "        # Get the GTF file used for evaluation\n",
    "        input_gtf = get_file_by_name(api, project=DREAM_PROJECT, filename=\"Homo_sapiens.GRCh37.75.gtf.txt\")\n",
    "        \n",
    "        # Create the input object -- remember to rename based on your app's input IDs!\n",
    "        eval_inputs = {   \n",
    "                        'gtf': input_gtf, \n",
    "                        'input': input_tsv, \n",
    "                        'truth': truth_txt\n",
    "                      }\n",
    "\n",
    "        # Create the task\n",
    "        eval_task = api.tasks.create(name=eval_task_name, project=project, app=eval_app, inputs=eval_inputs, run=run_opt)\n",
    "        eval_tasks.append(eval_task)\n",
    "        sleep(10)\n",
    "        \n",
    "        # Print information about the tasks\n",
    "        print(\"\\nTask created: {}\".format(eval_task_name))\n",
    "        print(\"Inputs: {}, {}, {}\".format(input_gtf.name, input_tsv.name, truth_txt.name))\n",
    "        print(\"Output(s): {}\".format(task.outputs))\n",
    "    \n",
    "    return eval_tasks\n",
    "\n",
    "# Check is all tasks are completed, then trigger evaluation\n",
    "tasks = refresh_task_status_list(tasks)\n",
    "if all([task.status == \"COMPLETED\" for task in tasks]):\n",
    "    evaluation_tasks = evaluate_rsem(api, DREAM_PROJECT, EVAL_DREAM_APP, task_objects=tasks, run_opt=False)\n",
    "else:\n",
    "    print(\"No tasks drafted or started. Inputs unavailable.\")"
   ]
  },
  {
   "cell_type": "code",
   "execution_count": null,
   "metadata": {
    "collapsed": true
   },
   "outputs": [],
   "source": []
  }
 ],
 "metadata": {
  "anaconda-cloud": {},
  "kernelspec": {
   "display_name": "Python [Root]",
   "language": "python",
   "name": "Python [Root]"
  },
  "language_info": {
   "codemirror_mode": {
    "name": "ipython",
    "version": 2
   },
   "file_extension": ".py",
   "mimetype": "text/x-python",
   "name": "python",
   "nbconvert_exporter": "python",
   "pygments_lexer": "ipython2",
   "version": "2.7.12"
  }
 },
 "nbformat": 4,
 "nbformat_minor": 0
}
