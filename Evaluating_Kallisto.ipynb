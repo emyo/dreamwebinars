{
 "cells": [
  {
   "cell_type": "markdown",
   "metadata": {},
   "source": [
    "# Testing & Evaluating Kallisto with SMC-RNA DREAM Challenge Data\n",
    "\n",
    "Let's see how Kallisto performs on DREAM Challenge training data."
   ]
  },
  {
   "cell_type": "code",
   "execution_count": 8,
   "metadata": {
    "collapsed": false
   },
   "outputs": [],
   "source": [
    "from __future__ import print_function\n",
    "from os import environ\n",
    "from datetime import datetime\n",
    "import time\n",
    "import sevenbridges as sbg\n",
    "from dream_helpers import *\n",
    "import pprint \n",
    "pp = pprint.PrettyPrinter(indent=4)\n",
    "\n",
    "# Create API object\n",
    "api = sbg.Api(config=sbg.Config(url=environ['API_URL'], token=environ['AUTH_TOKEN']))"
   ]
  },
  {
   "cell_type": "code",
   "execution_count": 2,
   "metadata": {
    "collapsed": false
   },
   "outputs": [
    {
     "name": "stdout",
     "output_type": "stream",
     "text": [
      "List of project IDs: \n",
      "gauravdream/dream-demo\n",
      "gauravdream/ccle\n",
      "gauravdream/dream-eval\n",
      "gauravCGC/kallisto-dream\n",
      "gauravdream/dream\n"
     ]
    }
   ],
   "source": [
    "# Get projects_list (ids)\n",
    "projects_list = get_projects_list(api) # see dream_helpers.py\n",
    "print(\"List of project IDs: \")\n",
    "print(*get_ids(projects_list), sep=\"\\n\")"
   ]
  },
  {
   "cell_type": "code",
   "execution_count": 3,
   "metadata": {
    "collapsed": true
   },
   "outputs": [],
   "source": [
    "# Set project\n",
    "project = \"gauravCGC/kallisto-dream\""
   ]
  },
  {
   "cell_type": "code",
   "execution_count": 4,
   "metadata": {
    "collapsed": false
   },
   "outputs": [
    {
     "name": "stdout",
     "output_type": "stream",
     "text": [
      "kallisto-index-quant-dream\n",
      "kallisto-index-quant\n",
      "kallisto-quant-dream\n",
      "clean-kallisto-abundances\n",
      "DREAM Isoform Quantification Evaluation Workflow\n",
      "kallisto-quant-batchable\n",
      "batch-kallisto-quant\n",
      "kallisto-index\n",
      "kallisto-h5dump\n",
      "kallisto-quant\n"
     ]
    }
   ],
   "source": [
    "# Get apps in project\n",
    "print(*[a.name for a in get_apps_in_project(api, project)], sep=\"\\n\")"
   ]
  },
  {
   "cell_type": "code",
   "execution_count": 5,
   "metadata": {
    "collapsed": false,
    "scrolled": true
   },
   "outputs": [
    {
     "name": "stdout",
     "output_type": "stream",
     "text": [
      "Input Ports (labels, IDs): \n",
      "(u'index', u'#index')\n",
      "(u'TUMOR_FASTQ_2', u'#TUMOR_FASTQ_2')\n",
      "(u'TUMOR_FASTQ_1', u'#TUMOR_FASTQ_1')\n",
      "(u'Bias', u'#bias')\n",
      "(u'Bootstrap Samples', u'#bootstrap')\n",
      "(u'Output Filename Prefix', u'#output_prefix')\n"
     ]
    }
   ],
   "source": [
    "# Get kallisto-quant-dream app object (using explicit name) and then print the inputs\n",
    "kallisto = get_app_by_name(api, project, app_name=\"kallisto-quant-dream\")\n",
    "print_app_inputs(kallisto)"
   ]
  },
  {
   "cell_type": "code",
   "execution_count": 6,
   "metadata": {
    "collapsed": false
   },
   "outputs": [
    {
     "name": "stdout",
     "output_type": "stream",
     "text": [
      "Fastq files returned: \n",
      "(sim11_mergeSort_1.fq.gz, sim11_mergeSort_2.fq.gz)\n",
      "(sim13_mergeSort_1.fq.gz, sim13_mergeSort_2.fq.gz)\n",
      "(sim14_mergeSort_1.fq.gz, sim14_mergeSort_2.fq.gz)\n",
      "(sim15_mergeSort_1.fq.gz, sim15_mergeSort_2.fq.gz)\n",
      "(sim16_mergeSort_1.fq.gz, sim16_mergeSort_2.fq.gz)\n",
      "(sim17_mergeSort_1.fq.gz, sim17_mergeSort_2.fq.gz)\n",
      "(sim19_mergeSort_1.fq.gz, sim19_mergeSort_2.fq.gz)\n",
      "(sim1_mergeSort_1.fq.gz, sim1_mergeSort_2.fq.gz)\n",
      "(sim21_mergeSort_1.fq.gz, sim21_mergeSort_2.fq.gz)\n",
      "(sim2_mergeSort_1.fq.gz, sim2_mergeSort_2.fq.gz)\n",
      "(sim3_mergeSort_1.fq.gz, sim3_mergeSort_2.fq.gz)\n",
      "(sim4_mergeSort_1.fq.gz, sim4_mergeSort_2.fq.gz)\n",
      "(sim5_mergeSort_1.fq.gz, sim5_mergeSort_2.fq.gz)\n",
      "(sim7_mergeSort_1.fq.gz, sim7_mergeSort_2.fq.gz)\n",
      "(sim8_mergeSort_1.fq.gz, sim8_mergeSort_2.fq.gz)\n"
     ]
    }
   ],
   "source": [
    "# Grab the list of fastqs, split, sort, check parity, then zip\n",
    "fastqs_tuple = split_fastqs_tuple(fastqs=get_all_fastqs(api, project))\n",
    "print(\"Fastq files returned: \")\n",
    "for fq in fastqs_tuple: print(\"({}, {})\".format(fq[0].name, fq[1].name))"
   ]
  },
  {
   "cell_type": "code",
   "execution_count": 7,
   "metadata": {
    "collapsed": false
   },
   "outputs": [
    {
     "name": "stdout",
     "output_type": "stream",
     "text": [
      "Index file: kallisto.GRCh37.75.cdna.all.index\n"
     ]
    }
   ],
   "source": [
    "# Grab the index file\n",
    "kallisto_index = get_files_by_filename_filter(api, project, \"kallisto.GRCh37.75\")[0]\n",
    "print(\"Index file: {}\".format(kallisto_index.name))"
   ]
  },
  {
   "cell_type": "code",
   "execution_count": 14,
   "metadata": {
    "collapsed": false
   },
   "outputs": [
    {
     "name": "stdout",
     "output_type": "stream",
     "text": [
      "Task created: FinalAnalysis_kallisto-quant-dream_sim11 - 08-19-2016 13:16:09\n",
      "Input files: sim11_mergeSort_1.fq.gz, sim11_mergeSort_2.fq.gz\n",
      "Output file prefix(es): sim11_kallisto-quant_GRCh37\n",
      "\n",
      "\n",
      "Task created: FinalAnalysis_kallisto-quant-dream_sim13 - 08-19-2016 13:16:11\n",
      "Input files: sim13_mergeSort_1.fq.gz, sim13_mergeSort_2.fq.gz\n",
      "Output file prefix(es): sim13_kallisto-quant_GRCh37\n",
      "\n",
      "\n",
      "Task created: FinalAnalysis_kallisto-quant-dream_sim14 - 08-19-2016 13:16:13\n",
      "Input files: sim14_mergeSort_1.fq.gz, sim14_mergeSort_2.fq.gz\n",
      "Output file prefix(es): sim14_kallisto-quant_GRCh37\n",
      "\n",
      "\n",
      "Task created: FinalAnalysis_kallisto-quant-dream_sim15 - 08-19-2016 13:16:15\n",
      "Input files: sim15_mergeSort_1.fq.gz, sim15_mergeSort_2.fq.gz\n",
      "Output file prefix(es): sim15_kallisto-quant_GRCh37\n",
      "\n",
      "\n",
      "Task created: FinalAnalysis_kallisto-quant-dream_sim16 - 08-19-2016 13:16:16\n",
      "Input files: sim16_mergeSort_1.fq.gz, sim16_mergeSort_2.fq.gz\n",
      "Output file prefix(es): sim16_kallisto-quant_GRCh37\n",
      "\n",
      "\n",
      "Task created: FinalAnalysis_kallisto-quant-dream_sim17 - 08-19-2016 13:16:19\n",
      "Input files: sim17_mergeSort_1.fq.gz, sim17_mergeSort_2.fq.gz\n",
      "Output file prefix(es): sim17_kallisto-quant_GRCh37\n",
      "\n",
      "\n",
      "Task created: FinalAnalysis_kallisto-quant-dream_sim19 - 08-19-2016 13:16:21\n",
      "Input files: sim19_mergeSort_1.fq.gz, sim19_mergeSort_2.fq.gz\n",
      "Output file prefix(es): sim19_kallisto-quant_GRCh37\n",
      "\n",
      "\n",
      "Task created: FinalAnalysis_kallisto-quant-dream_sim1 - 08-19-2016 13:16:22\n",
      "Input files: sim1_mergeSort_1.fq.gz, sim1_mergeSort_2.fq.gz\n",
      "Output file prefix(es): sim1_kallisto-quant_GRCh37\n",
      "\n",
      "\n",
      "Task created: FinalAnalysis_kallisto-quant-dream_sim21 - 08-19-2016 13:16:24\n",
      "Input files: sim21_mergeSort_1.fq.gz, sim21_mergeSort_2.fq.gz\n",
      "Output file prefix(es): sim21_kallisto-quant_GRCh37\n",
      "\n",
      "\n",
      "Task created: FinalAnalysis_kallisto-quant-dream_sim2 - 08-19-2016 13:16:26\n",
      "Input files: sim2_mergeSort_1.fq.gz, sim2_mergeSort_2.fq.gz\n",
      "Output file prefix(es): sim2_kallisto-quant_GRCh37\n",
      "\n",
      "\n",
      "Task created: FinalAnalysis_kallisto-quant-dream_sim3 - 08-19-2016 13:16:28\n",
      "Input files: sim3_mergeSort_1.fq.gz, sim3_mergeSort_2.fq.gz\n",
      "Output file prefix(es): sim3_kallisto-quant_GRCh37\n",
      "\n",
      "\n",
      "Task created: FinalAnalysis_kallisto-quant-dream_sim4 - 08-19-2016 13:16:30\n",
      "Input files: sim4_mergeSort_1.fq.gz, sim4_mergeSort_2.fq.gz\n",
      "Output file prefix(es): sim4_kallisto-quant_GRCh37\n",
      "\n",
      "\n",
      "Task created: FinalAnalysis_kallisto-quant-dream_sim5 - 08-19-2016 13:16:31\n",
      "Input files: sim5_mergeSort_1.fq.gz, sim5_mergeSort_2.fq.gz\n",
      "Output file prefix(es): sim5_kallisto-quant_GRCh37\n",
      "\n",
      "\n",
      "Task created: FinalAnalysis_kallisto-quant-dream_sim7 - 08-19-2016 13:16:34\n",
      "Input files: sim7_mergeSort_1.fq.gz, sim7_mergeSort_2.fq.gz\n",
      "Output file prefix(es): sim7_kallisto-quant_GRCh37\n",
      "\n",
      "\n",
      "Task created: FinalAnalysis_kallisto-quant-dream_sim8 - 08-19-2016 13:16:36\n",
      "Input files: sim8_mergeSort_1.fq.gz, sim8_mergeSort_2.fq.gz\n",
      "Output file prefix(es): sim8_kallisto-quant_GRCh37\n",
      "\n",
      "\n",
      "Number of tasks run: 15\n"
     ]
    }
   ],
   "source": [
    "# The Main Event\n",
    "\n",
    "debug = False # set to False to allow for drafting/running tasks\n",
    "run_opt = True\n",
    "task_objects = [] # store task names to grab later\n",
    "\n",
    "for _, fq in enumerate(fastqs_tuple):\n",
    "    \n",
    "    # Create individualized task names with sample ID and current time\n",
    "    sample_id = fq[0].metadata['sample_id']\n",
    "    current_time = datetime.now().strftime(\"%m-%d-%Y %H:%M:%S\")\n",
    "    TASK_NAME = \"FinalAnalysis_{}_{} - {}\".format(kallisto.name, sample_id, current_time)\n",
    "    \n",
    "    # Create the input object (don't know what to include? use the generate_input_object() methods)\n",
    "    #     - index is the same for all tasks\n",
    "    #     - iterate over the lists to pair files\n",
    "    #     - set custom output filename prefix\n",
    "    #     - save the json report file\n",
    "    #     - set bias to True\n",
    "    INPUTS = {\n",
    "        \"index\": kallisto_index,\n",
    "        \"TUMOR_FASTQ_1\": fq[0],\n",
    "        \"TUMOR_FASTQ_2\": fq[1],\n",
    "        \"output_prefix\": sample_id + \"_kallisto-quant_GRCh37\",\n",
    "        \"bias\": True,\n",
    "        \"bootstrap\": 30\n",
    "        }\n",
    "\n",
    "    # Create the task\n",
    "    if not debug:\n",
    "        new_task = api.tasks.create(name=TASK_NAME, \n",
    "                         project=project,\n",
    "                         app=kallisto, \n",
    "                         inputs=INPUTS,\n",
    "                         run=run_opt) # IMPORTANT! set run=True if you want to run, not just draft the tasks\n",
    "        task_objects.append(new_task) # add this task to your list of tasks\n",
    "    print(\"Task created: {}\".format(TASK_NAME))\n",
    "    print(\"Input files: {}, {}\".format(fq[0].name, fq[1].name))\n",
    "    print(\"Output file prefix(es): {}\".format(sample_id + \"_kallisto-quant_GRCh37\"))\n",
    "    print(\"\\n\")\n",
    "\n",
    "print(\"Number of tasks run: {}\".format(len(fastqs_tuple)))"
   ]
  },
  {
   "cell_type": "code",
   "execution_count": 18,
   "metadata": {
    "collapsed": false
   },
   "outputs": [
    {
     "name": "stdout",
     "output_type": "stream",
     "text": [
      "(u'FinalAnalysis_kallisto-quant-dream_sim11 - 08-19-2016 13:16:09', u'QUEUED')\n",
      "(u'FinalAnalysis_kallisto-quant-dream_sim13 - 08-19-2016 13:16:11', u'QUEUED')\n",
      "(u'FinalAnalysis_kallisto-quant-dream_sim14 - 08-19-2016 13:16:13', u'QUEUED')\n",
      "(u'FinalAnalysis_kallisto-quant-dream_sim15 - 08-19-2016 13:16:15', u'QUEUED')\n",
      "(u'FinalAnalysis_kallisto-quant-dream_sim16 - 08-19-2016 13:16:16', u'QUEUED')\n",
      "(u'FinalAnalysis_kallisto-quant-dream_sim17 - 08-19-2016 13:16:19', u'QUEUED')\n",
      "(u'FinalAnalysis_kallisto-quant-dream_sim19 - 08-19-2016 13:16:21', u'QUEUED')\n",
      "(u'FinalAnalysis_kallisto-quant-dream_sim1 - 08-19-2016 13:16:22', u'QUEUED')\n",
      "(u'FinalAnalysis_kallisto-quant-dream_sim21 - 08-19-2016 13:16:24', u'QUEUED')\n",
      "(u'FinalAnalysis_kallisto-quant-dream_sim2 - 08-19-2016 13:16:26', u'QUEUED')\n",
      "(u'FinalAnalysis_kallisto-quant-dream_sim3 - 08-19-2016 13:16:28', u'QUEUED')\n",
      "(u'FinalAnalysis_kallisto-quant-dream_sim4 - 08-19-2016 13:16:30', u'QUEUED')\n",
      "(u'FinalAnalysis_kallisto-quant-dream_sim5 - 08-19-2016 13:16:31', u'QUEUED')\n",
      "(u'FinalAnalysis_kallisto-quant-dream_sim7 - 08-19-2016 13:16:34', u'QUEUED')\n",
      "(u'FinalAnalysis_kallisto-quant-dream_sim8 - 08-19-2016 13:16:36', u'QUEUED')\n"
     ]
    }
   ],
   "source": [
    "# Grab the executed tasks based on the stored tasks_names\n",
    "if task_objects:\n",
    "    kallisto_tasks = task_objects\n",
    "    print(*[(k.name, k.status) for k in kallisto_tasks], sep=\"\\n\")\n",
    "    while True:\n",
    "        [k.get_execution_details() for k in kallisto_tasks]\n",
    "        statuses = [k.status for k in kallisto_tasks]\n",
    "        if any()\n",
    "        \n",
    "else:\n",
    "# # Forgot to store or lost those tasks_names? No problem - glob the list and find the ones you need\n",
    "# Careful with this query, make sure the filter is the right one to return your tasks of choice\n",
    "    task_query=\"FinalAnalysis_kallisto\"\n",
    "    # gaurav: check that this works\n",
    "    kallisto_tasks = [get_task_by_name(api, project, i) for i in get_names(get_tasks_by_string(api, project, query=task_query)) if i.status == \"COMPLETED\"]\n",
    "    print(*get_names(get_tasks_by_string(api, project, query=task_query)), sep=\"\\n\")"
   ]
  },
  {
   "cell_type": "code",
   "execution_count": null,
   "metadata": {
    "collapsed": false
   },
   "outputs": [],
   "source": [
    "# Grab the Isoform Quant Validation Workflow which we will use next\n",
    "eval_app = get_app_by_name(api, project, \"DREAM Isoform Quantification Evaluation Workflow\")\n",
    "print_app_inputs(eval_app)"
   ]
  },
  {
   "cell_type": "code",
   "execution_count": null,
   "metadata": {
    "collapsed": false
   },
   "outputs": [],
   "source": [
    "\"\"\"Inputs, Assemble!\"\"\"\n",
    "# Grab all the abundance TSV files for the kallisto tasks - note that outputs are stored by their Output Port ID\n",
    "kallisto_outputs = [t.outputs[\"abundance_tsv\"] for t in kallisto_tasks]\n",
    "\n",
    "# GTF file, I choose you.\n",
    "gtf = get_file_by_name(api, project, \"Homo_sapiens.GRCh37.75.gtf.txt\")\n",
    "\n",
    "# Seek the truth files - isoform\n",
    "truths = filter_by_all_strings(get_files_in_project(api, project), filter_list=['isoforms_truth'])\n",
    "\n",
    "# Sort and zip our outputs and truth files\n",
    "# eval_inputs = tuplify_lists_by_name(kallisto_outputs, truths)\n",
    "eval_inputs = tuplify_lists_by_name(kallisto_outputs[:-1], truths) # DEBUG ONLY - REMOVE\n",
    "\n",
    "# Sanity check out evaluation workflow inputs\n",
    "print(\"Evaluation Inputs: \")\n",
    "for e in eval_inputs: print(\"({}, {})\".format(e[0].name, e[1].name))\n",
    "print(\"\\nGTF file: {}\".format(gtf.name))"
   ]
  },
  {
   "cell_type": "code",
   "execution_count": null,
   "metadata": {
    "collapsed": false
   },
   "outputs": [],
   "source": [
    "# Set up the tasks\n",
    "debug = True # set to False to allow for drafting/running tasks\n",
    "run_opt = False\n",
    "eval_tasks = []\n",
    "\n",
    "for ko in eval_inputs:\n",
    "\n",
    "    # Create individualized task names\n",
    "    current_time = datetime.now().strftime(\"%m-%d-%Y %H:%M:%S\")\n",
    "    TASK_NAME = \"DREAM_Isoform_Eval_{} - {}\".format(ko[0].name.split(\"_\")[0], current_time)\n",
    "    eval_task_names.append(TASK_NAME)\n",
    "    \n",
    "    # Create the input object\n",
    "    INPUTS = {\n",
    "                \"gtf\": gtf,\n",
    "                \"input\": ko[0],\n",
    "                \"truth\": ko[1]\n",
    "             }\n",
    "    \n",
    "    # Create the task\n",
    "    if not debug:\n",
    "        new_eval_task = api.tasks.create(name=TASK_NAME, project=project, app=eval_app, inputs=INPUTS, run=run_opt)\n",
    "        eval_tasks.append(new_eval_task)\n",
    "\n",
    "    print(\"Task created: {}\".format(TASK_NAME))\n",
    "    print(\"Input files: {}, {}\".format(ko[0].name, ko[1].name))\n",
    "    print(\"\\n\")"
   ]
  },
  {
   "cell_type": "code",
   "execution_count": null,
   "metadata": {
    "collapsed": false
   },
   "outputs": [],
   "source": [
    "\"\"\"Check task statuses\"\"\"\n",
    "task_id=\"6d2becba-c266-4d84-9de5-92b598de1042\" # RSEM with TUMOR_FASTQ in labels (not IDs)\n",
    "# task_id=\"b8214119-527e-47e1-8489-d777ee35631d\" # RSEM being run\n",
    "eval_tasks = [api.tasks.get(task_id)]\n",
    "\n",
    "if check_task_status_all(eval_tasks):\n",
    "    print(\"All tasks completed\")\n",
    "    \n",
    "# outputs = [task.outputs for task in eval_tasks if task.output]"
   ]
  }
 ],
 "metadata": {
  "anaconda-cloud": {},
  "kernelspec": {
   "display_name": "Python [Root]",
   "language": "python",
   "name": "Python [Root]"
  },
  "language_info": {
   "codemirror_mode": {
    "name": "ipython",
    "version": 2
   },
   "file_extension": ".py",
   "mimetype": "text/x-python",
   "name": "python",
   "nbconvert_exporter": "python",
   "pygments_lexer": "ipython2",
   "version": "2.7.12"
  }
 },
 "nbformat": 4,
 "nbformat_minor": 0
}
